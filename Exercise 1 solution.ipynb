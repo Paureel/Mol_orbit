{
 "cells": [
  {
   "cell_type": "markdown",
   "metadata": {},
   "source": [
    "# Introduction"
   ]
  },
  {
   "cell_type": "markdown",
   "metadata": {},
   "source": [
    "# Theory"
   ]
  },
  {
   "cell_type": "markdown",
   "metadata": {},
   "source": [
    "# Visualisation"
   ]
  },
  {
   "cell_type": "code",
   "execution_count": null,
   "metadata": {},
   "outputs": [],
   "source": [
    "import matplotlib.pyplot as plt\n",
    "import matplotlib.cm as cm\n",
    "import scipy.special as ss\n",
    "import numpy as np\n",
    "import math, pdb, sympy"
   ]
  },
  {
   "cell_type": "code",
   "execution_count": 14,
   "metadata": {},
   "outputs": [],
   "source": [
    "class Mol_orbit(object):\n",
    "    # Constants\n",
    "    h_bar = 1.0545718*(10**-34)\n",
    "    m_e = 9.10938356 *(10**-31)\n",
    "    c = 300000000\n",
    "    alpha = 1/137\n",
    "    a_0 = h_bar/(m_e*c*alpha)\n",
    "    # Probability density\n",
    "    rho = 0\n",
    "    psi = 0\n",
    "    \n",
    "    def __init__(self, name):\n",
    "        self.name = name\n",
    "        self.params = params # [n,l,m]\n",
    "        \n",
    "    def Laguerre(p,q):\n",
    "        x = sympy.Symbol('x')\n",
    "        exp = (-1)**p*sympy.diff(sympy.simplify(sympy.E**x*sympy.diff(sympy.E**(-x)*x**q,x,q)),x,p)\n",
    "        return lambda x: eval(str(exp))\n",
    "\n",
    "    def SphericalHarmonic(l,m,theta,phi,epsilon):\n",
    "        return epsilon*np.sqrt((2.*l+1)*math.factorial(l-np.abs(m))/(4*np.pi*math.factorial(l+np.abs(m))))*np.real(np.exp(1.j*m*phi)*ss.lpmv(m,l,np.cos(theta)))\n",
    "        \n",
    "    def wavefunction(self, params, r, phi, theta):\n",
    "        \n",
    "        return psi\n",
    "        \n",
    "    \n",
    "    \n",
    "    def calc_rho(self, params, r, phi, theta):\n",
    "        u = (2*r)/(n*a_0)\n",
    "        \n",
    "        return rho\n",
    "        \n",
    "    def plot2d(self):\n",
    "        pass\n",
    "    \n",
    "    def plot3d(self):\n",
    "        pass\n",
    "    "
   ]
  },
  {
   "cell_type": "code",
   "execution_count": 15,
   "metadata": {},
   "outputs": [],
   "source": [
    "class Hydrogen_ion(Mol_orbit):\n",
    "    \n",
    "    def wavefunction(self, params, r, phi, theta):\n",
    "        rho = (2*r)/(n*a_0)\n",
    "        n = params[0]\n",
    "        l = params[1]\n",
    "        m = params[2]\n",
    "        \n",
    "        wavefunction = ((2/(n*a_0))**3*(math.factorial((n-l-1))/(math.factorial(2*n*(n+l)))))**1/2*exp(-0.5*rho)*(rho**l)*Laguerre(2*l+1,n+l)*SphericalHarmonic(l,m,theta,phi,epsilon)\n",
    "        return psi\n",
    "    \n",
    "    "
   ]
  },
  {
   "cell_type": "code",
   "execution_count": null,
   "metadata": {},
   "outputs": [],
   "source": []
  }
 ],
 "metadata": {
  "kernelspec": {
   "display_name": "Python 3",
   "language": "python",
   "name": "python3"
  },
  "language_info": {
   "codemirror_mode": {
    "name": "ipython",
    "version": 3
   },
   "file_extension": ".py",
   "mimetype": "text/x-python",
   "name": "python",
   "nbconvert_exporter": "python",
   "pygments_lexer": "ipython3",
   "version": "3.6.4"
  }
 },
 "nbformat": 4,
 "nbformat_minor": 2
}
