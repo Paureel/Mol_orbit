{
 "cells": [
  {
   "cell_type": "markdown",
   "metadata": {},
   "source": [
    "# Introduction"
   ]
  },
  {
   "cell_type": "markdown",
   "metadata": {},
   "source": [
    "# Theory"
   ]
  },
  {
   "cell_type": "markdown",
   "metadata": {},
   "source": [
    "# Visualisation"
   ]
  },
  {
   "cell_type": "code",
   "execution_count": 8,
   "metadata": {},
   "outputs": [],
   "source": [
    "class Mol_orbit(object):\n",
    "    # Constants\n",
    "    h_bar = 1.0545718*(10**-34)\n",
    "    m_e = 9.10938356 *(10**-31)\n",
    "    c = 300000000\n",
    "    alpha = 1/137\n",
    "    \n",
    "    # Probability density\n",
    "    rho = 0\n",
    "    wavefunction = 0\n",
    "    \n",
    "    def __init__(self, name):\n",
    "        self.name = name\n",
    "        self.params = params # [n,l,m]\n",
    "        \n",
    "    def calc_rho(self, params, r, phi, omega):\n",
    "        \n",
    "        return rho\n",
    "        \n",
    "    def plot2d(self):\n",
    "        pass\n",
    "    \n",
    "    def plot3d(self):\n",
    "        pass\n",
    "    "
   ]
  },
  {
   "cell_type": "code",
   "execution_count": null,
   "metadata": {},
   "outputs": [],
   "source": [
    "class Hydrogen_ion(Mol_orbit):\n",
    "    wavefunction = ()**1/2"
   ]
  }
 ],
 "metadata": {
  "kernelspec": {
   "display_name": "Python 3",
   "language": "python",
   "name": "python3"
  },
  "language_info": {
   "codemirror_mode": {
    "name": "ipython",
    "version": 3
   },
   "file_extension": ".py",
   "mimetype": "text/x-python",
   "name": "python",
   "nbconvert_exporter": "python",
   "pygments_lexer": "ipython3",
   "version": "3.6.4"
  }
 },
 "nbformat": 4,
 "nbformat_minor": 2
}
