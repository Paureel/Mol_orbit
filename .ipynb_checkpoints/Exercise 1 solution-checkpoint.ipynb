{
 "cells": [
  {
   "cell_type": "markdown",
   "metadata": {},
   "source": [
    "# Introduction"
   ]
  },
  {
   "cell_type": "markdown",
   "metadata": {},
   "source": [
    "# Theory"
   ]
  },
  {
   "cell_type": "markdown",
   "metadata": {},
   "source": [
    "# Visualisation"
   ]
  },
  {
   "cell_type": "code",
   "execution_count": 3,
   "metadata": {
    "collapsed": true
   },
   "outputs": [],
   "source": [
    "import matplotlib.pyplot as plt\n",
    "import matplotlib.cm as cm\n",
    "import scipy.special as ss\n",
    "import numpy as np\n",
    "import math, pdb, sympy"
   ]
  },
  {
   "cell_type": "code",
   "execution_count": 72,
   "metadata": {
    "collapsed": true
   },
   "outputs": [],
   "source": [
    "class Mol_orbit(object):\n",
    "    # Constants\n",
    "    h_bar = 1.0545718*(10**-34)\n",
    "    m_e = 9.10938356 *(10**-31)\n",
    "    c = 300000000\n",
    "    alpha = 1/137\n",
    "    a_0 = h_bar/(m_e*c*alpha)\n",
    "    a_0 = 1\n",
    "    # Probability density\n",
    "    rho = 0\n",
    "    psi = 0\n",
    "    \n",
    "    def __init__(self, name, params):\n",
    "        self.name = name\n",
    "        self.params = params # [n,l,m]\n",
    "        \n",
    "    def Laguerre(self,p,q):\n",
    "        x = sympy.Symbol('x')\n",
    "        exp = (-1)**p*sympy.diff(sympy.simplify(sympy.E**x*sympy.diff(sympy.E**(-x)*x**q,x,q)),x,p)\n",
    "        return lambda x: eval(str(exp))\n",
    "\n",
    "    def SphericalHarmonic(l,m,theta,phi,epsilon):\n",
    "        return epsilon*np.sqrt((2.*l+1)*math.factorial(l-np.abs(m))/(4*np.pi*math.factorial(l+np.abs(m))))*np.real(np.exp(1.j*m*phi)*ss.lpmv(m,l,np.cos(theta)))\n",
    "        \n",
    "    def wavefunction(self, params, r, phi, theta):\n",
    "        \n",
    "        return psi\n",
    "        \n",
    "    \n",
    "    \n",
    "    def calc_rho(self, r, phi, theta):\n",
    "        \n",
    "        rho_cdf = np.abs(self.wavefunction(r, phi, theta))**2\n",
    "        \n",
    "        return rho_cdf\n",
    "        \n",
    "    def plot2d(self):\n",
    "        resolution = 300; frame_apothem = 10\n",
    "        # create array of data points\n",
    "        x = np.linspace(-frame_apothem*1.6,frame_apothem*1.6,int(resolution*1.6))\n",
    "        y = np.linspace(-frame_apothem,frame_apothem,resolution)\n",
    "        X, Y = np.meshgrid(x,x)\n",
    "        # create an array of wavefunction values (1e-10 added so that arctan never sees X/0)\n",
    "        radius = np.sqrt((X**2+Y**2))\n",
    "                         \n",
    "        Z = self.calc_rho(radius, 0, np.arctan(X/(Y+1e-10)))\n",
    "        Z = Z.astype(np.float)\n",
    "        Z = np.sqrt(Z)\n",
    "        \n",
    "        plt.imshow(Z); plt.show()\n",
    "    def plot3d(self):\n",
    "        pass\n",
    "    "
   ]
  },
  {
   "cell_type": "code",
   "execution_count": 73,
   "metadata": {
    "collapsed": true
   },
   "outputs": [],
   "source": [
    "class Hydrogen_ion(Mol_orbit):\n",
    "    \n",
    "    def wavefunction(self, r, phi, theta):\n",
    "        n = self.params[0]\n",
    "        l = self.params[1]\n",
    "        m = self.params[2]\n",
    "        a_0 = self.a_0\n",
    "        rho = (2*r)/(n*a_0)\n",
    "        lag = self.Laguerre(2*l+1,n+l)\n",
    "        \n",
    "        # constant for the spherical harmonics (epsilon)\n",
    "        if m>=0:\n",
    "            epsilon = (-1)**m\n",
    "        else:\n",
    "            epsilon = 1\n",
    "         \n",
    "        sph = epsilon*np.sqrt((2.*l+1)*math.factorial(l-np.abs(m))/(4*np.pi*math.factorial(l+np.abs(m))))*np.real(np.exp(1.j*m*phi)*ss.lpmv(m,l,np.cos(theta)))\n",
    "        laguerre_value = lag(rho)\n",
    "        radial = ((2/(n*a_0))**3*(math.factorial((n-l-1))/(math.factorial(2*n*(n+l)))))**1/2*np.exp(-0.5*rho)*(rho**l)\n",
    "        \n",
    "        wavefunction = radial * laguerre_value * sph\n",
    "        self.psi = wavefunction\n",
    "        return self.psi\n",
    "    \n",
    "    "
   ]
  },
  {
   "cell_type": "code",
   "execution_count": 78,
   "metadata": {
    "collapsed": true
   },
   "outputs": [],
   "source": [
    "h1 = Hydrogen_ion(\"Hidrogen\", [2,1,1])"
   ]
  },
  {
   "cell_type": "code",
   "execution_count": 79,
   "metadata": {},
   "outputs": [
    {
     "data": {
      "image/png": "[encoded data removed]",
      "text/plain": [
       "<matplotlib.figure.Figure at 0x20e07ccf438>"
      ]
     },
     "metadata": {},
     "output_type": "display_data"
    }
   ],
   "source": [
    "h1.plot2d()"
   ]
  }
 ],
 "metadata": {
  "kernelspec": {
   "display_name": "Python 3",
   "language": "python",
   "name": "python3"
  },
  "language_info": {
   "codemirror_mode": {
    "name": "ipython",
    "version": 3
   },
   "file_extension": ".py",
   "mimetype": "text/x-python",
   "name": "python",
   "nbconvert_exporter": "python",
   "pygments_lexer": "ipython3",
   "version": "3.6.3"
  }
 },
 "nbformat": 4,
 "nbformat_minor": 2
}
