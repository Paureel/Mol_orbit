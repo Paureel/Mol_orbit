{
 "cells": [
  {
   "cell_type": "markdown",
   "metadata": {},
   "source": [
    "# Introduction"
   ]
  },
  {
   "cell_type": "markdown",
   "metadata": {},
   "source": [
    "# Theory"
   ]
  },
  {
   "cell_type": "markdown",
   "metadata": {},
   "source": [
    "# Visualisation"
   ]
  },
  {
   "cell_type": "code",
   "execution_count": 81,
   "metadata": {},
   "outputs": [],
   "source": [
    "import matplotlib.pyplot as plt\n",
    "import matplotlib.cm as cm\n",
    "import scipy.special as ss\n",
    "import numpy as np\n",
    "import math, pdb, sympy\n",
    "from mpl_toolkits.mplot3d import Axes3D"
   ]
  },
  {
   "cell_type": "code",
   "execution_count": 112,
   "metadata": {},
   "outputs": [],
   "source": [
    "class Mol_orbit(object):\n",
    "    # Constants\n",
    "    h_bar = 1.0545718*(10**-34)\n",
    "    m_e = 9.10938356 *(10**-31)\n",
    "    c = 300000000\n",
    "    alpha = 1/137\n",
    "    a_0 = h_bar/(m_e*c*alpha)\n",
    "    a_0 = 1\n",
    "    # Probability density\n",
    "    rho = 0\n",
    "    psi = 0\n",
    "    \n",
    "    def __init__(self, name, params):\n",
    "        self.name = name\n",
    "        self.params = params # [n,l,m]\n",
    "        \n",
    "    def Laguerre(self,p,q):\n",
    "        x = sympy.Symbol('x')\n",
    "        exp = (-1)**p*sympy.diff(sympy.simplify(sympy.E**x*sympy.diff(sympy.E**(-x)*x**q,x,q)),x,p)\n",
    "        return lambda x: eval(str(exp))\n",
    "\n",
    "    def SphericalHarmonic(l,m,theta,phi,epsilon):\n",
    "        return epsilon*np.sqrt((2.*l+1)*math.factorial(l-np.abs(m))/(4*np.pi*math.factorial(l+np.abs(m))))*np.real(np.exp(1.j*m*phi)*ss.lpmv(m,l,np.cos(theta)))\n",
    "        \n",
    "    def wavefunction(self, params, r, phi, theta):\n",
    "        \n",
    "        return psi\n",
    "        \n",
    "    \n",
    "    \n",
    "    def calc_rho(self, r, phi, theta):\n",
    "        \n",
    "        rho_cdf = np.abs(self.wavefunction(r, phi, theta))**2\n",
    "        \n",
    "        return rho_cdf\n",
    "        \n",
    "    def plot2d(self):\n",
    "        resolution = 300; frame_apothem = 10\n",
    "        # create array of data points\n",
    "        x = np.linspace(-frame_apothem*1.6,frame_apothem*1.6,int(resolution*1.6))\n",
    "        y = np.linspace(-frame_apothem,frame_apothem,resolution)\n",
    "        X, Y = np.meshgrid(x,x)\n",
    "        # create an array of wavefunction values (1e-10 added so that arctan never sees X/0)\n",
    "        radius = np.sqrt((X**2+Y**2))\n",
    "                         \n",
    "        Z = self.calc_rho(radius, 0, np.arctan(X/(Y+1e-10)))\n",
    "        Z = Z.astype(np.float)\n",
    "        #Z = np.sqrt(Z)\n",
    "        \n",
    "        plt.imshow(Z); plt.show()\n",
    "        \n",
    "        \n",
    "    def plot3d(self,length, width, height, nl, nw, nh, l0, w0, h0):\n",
    "        '''\n",
    "    Generate density matrix // n,l,m set\n",
    "\n",
    "    INPUT\n",
    "        length: Positive extent in x of box\n",
    "        width: Positive extent in y of box\n",
    "        height: Positive extent in z of box\n",
    "        nl: Number of elements along length\n",
    "        nw: Number of elements along width\n",
    "        nh: Number of elements along height\n",
    "        l0: Negative extent in x of box\n",
    "        w0: Negative extent in y of box\n",
    "        h0: Negative extent in z of box\n",
    "        inFunc: Function to generate density data\n",
    "\n",
    "    OUTPUT\n",
    "        3D Density matrix\n",
    "    '''\n",
    "        n = self.params[0]\n",
    "        l = self.params[1]\n",
    "        m = self.params[2]\n",
    "        # Initialize matrix\n",
    "        outMat = np.zeros((nl,nw,nh))\n",
    "\n",
    "        # Calculate function at each grid point\n",
    "        for lIndex in range(nl):\n",
    "\n",
    "            # X-coordinate\n",
    "            xVal = l0 + 1.0*lIndex*(length-l0)/(nl-1)\n",
    "\n",
    "            for wIndex in range(nw):\n",
    "\n",
    "                # Y-coordinate\n",
    "                yVal = w0 + 1.0*wIndex*(width-w0)/(nw-1)\n",
    "\n",
    "                for hIndex in range(nh):\n",
    "\n",
    "                    # Z-coordinate\n",
    "                    zVal = h0 + 1.0*hIndex*(height-h0)/(nh-1)\n",
    "\n",
    "                    # Translate to spherical coordinates\n",
    "                    r = np.sqrt(xVal**2 + yVal**2 + zVal**2)\n",
    "\n",
    "                    if (r == 0):\n",
    "                        theta = 0\n",
    "                    else:\n",
    "                        theta = np.arccos(zVal/r)    \n",
    "\n",
    "                    if (xVal == 0):\n",
    "                        phi = np.pi/2\n",
    "                    else:\n",
    "                        phi = np.arctan(yVal/xVal)\n",
    "\n",
    "                    funcEval = self.calc_rho(r, theta, phi)\n",
    "\n",
    "                    outMat[lIndex,wIndex,hIndex] = np.real(funcEval*np.conj(funcEval))\n",
    "\n",
    "            '''\n",
    "        Write xsf 3D density file\n",
    "\n",
    "        INPUT\n",
    "            inMat: 3D input matrix\n",
    "            length: Length of box\n",
    "            width: Width of box\n",
    "            height: Height of box\n",
    "            l0: Zero coordinate for length\n",
    "            w0: Zero coordinate for width\n",
    "            h0: Zero coordinate for height\n",
    "\n",
    "        OUTPUT\n",
    "            Void. Creates xsf file\n",
    "\n",
    "        * Note that I define the zero coordinate at the negative extent of the box - This is an arbitrary choice.\n",
    "        '''\n",
    "        inMat = outMat\n",
    "        # Get matrix shape\n",
    "        nl = inMat.shape[0]\n",
    "        nw = inMat.shape[1]\n",
    "        nh = inMat.shape[2]\n",
    "\n",
    "        # Open the file for writing\n",
    "        with open('testDensity_H.xsf','w') as outFile:\n",
    "            # Write header\n",
    "            outFile.write('BEGIN_BLOCK_DATAGRID_3D\\n')\n",
    "            outFile.write('\\tHydrogen Density\\n')\n",
    "            outFile.write('\\tBEGIN_DATAGRID_3D\\n')\n",
    "\n",
    "            # Write cell information\n",
    "            outFile.write('\\t\\t' + str(nl) + ' ' + str(nw) + ' ' + str(nh) + '\\n')\n",
    "            outFile.write('\\t\\t' + str(l0) + ' ' + str(w0) + ' ' + str(h0) + '\\n')\n",
    "            outFile.write('\\t\\t' + str(length-l0) + ' ' + str(0.0) + ' ' + str(0.0) + '\\n')\n",
    "            outFile.write('\\t\\t' + str(0.0) + ' ' + str(width-w0) + ' ' + str(0.0) + '\\n')\n",
    "            outFile.write('\\t\\t' + str(0.0) + ' ' + str(0.0) + ' ' + str(height-h0) + '\\n')\n",
    "\n",
    "            outStr = ''\n",
    "\n",
    "            # Write datagrid\n",
    "            for hIndex in range(nh):\n",
    "                for wIndex in range(nw):\n",
    "                    for lIndex in range(nl):\n",
    "                        outStr += str(inMat[lIndex,wIndex,hIndex]) + ' '\n",
    "\n",
    "                    outFile.write('\\t\\t\\t' + outStr + '\\n')\n",
    "                    outStr = ''\n",
    "\n",
    "            # Write footer\n",
    "            outFile.write('\\tEND_DATAGRID_3D\\n')\n",
    "            outFile.write('END_BLOCK_DATAGRID_3D\\n') \n",
    "    "
   ]
  },
  {
   "cell_type": "code",
   "execution_count": 113,
   "metadata": {
    "collapsed": true
   },
   "outputs": [],
   "source": [
    "class Hydrogen_ion(Mol_orbit):\n",
    "    \n",
    "    def wavefunction(self, r, phi, theta):\n",
    "        n = self.params[0]\n",
    "        l = self.params[1]\n",
    "        m = self.params[2]\n",
    "        a_0 = self.a_0\n",
    "        rho = (2*r)/(n*a_0)\n",
    "        lag = self.Laguerre(2*l+1,n+l)\n",
    "        \n",
    "        # constant for the spherical harmonics (epsilon)\n",
    "        if m>=0:\n",
    "            epsilon = (-1)**m\n",
    "        else:\n",
    "            epsilon = 1\n",
    "         \n",
    "        sph = epsilon*np.sqrt((2.*l+1)*math.factorial(l-np.abs(m))/(4*np.pi*math.factorial(l+np.abs(m))))*np.real(np.exp(1.j*m*phi)*ss.lpmv(m,l,np.cos(theta)))\n",
    "        laguerre_value = lag(rho)\n",
    "        radial = ((2/(n*a_0))**3*(math.factorial((n-l-1))/(math.factorial(2*n*(n+l)))))**1/2*np.exp(-0.5*rho)*(rho**l)\n",
    "        \n",
    "        wavefunction = radial * laguerre_value * sph\n",
    "        self.psi = wavefunction\n",
    "        return self.psi\n",
    "    \n",
    "    "
   ]
  },
  {
   "cell_type": "code",
   "execution_count": 114,
   "metadata": {
    "collapsed": true
   },
   "outputs": [],
   "source": [
    "h1 = Hydrogen_ion(\"Hidrogen\", [2,1,1])"
   ]
  },
  {
   "cell_type": "code",
   "execution_count": 115,
   "metadata": {},
   "outputs": [
    {
     "data": {
      "image/png": "[encoded data removed]",
      "text/plain": [
       "<matplotlib.figure.Figure at 0x20e07c19cc0>"
      ]
     },
     "metadata": {},
     "output_type": "display_data"
    }
   ],
   "source": [
    "h1.plot2d()"
   ]
  },
  {
   "cell_type": "code",
   "execution_count": 116,
   "metadata": {},
   "outputs": [],
   "source": [
    "h1.plot3d(10, 10, 10, 10, 10, 10, 0, 0, 0)"
   ]
  },
  {
   "cell_type": "code",
   "execution_count": null,
   "metadata": {
    "collapsed": true
   },
   "outputs": [],
   "source": []
  }
 ],
 "metadata": {
  "kernelspec": {
   "display_name": "Python 3",
   "language": "python",
   "name": "python3"
  },
  "language_info": {
   "codemirror_mode": {
    "name": "ipython",
    "version": 3
   },
   "file_extension": ".py",
   "mimetype": "text/x-python",
   "name": "python",
   "nbconvert_exporter": "python",
   "pygments_lexer": "ipython3",
   "version": "3.6.3"
  }
 },
 "nbformat": 4,
 "nbformat_minor": 2
}
